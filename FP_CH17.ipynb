{
 "cells": [
  {
   "cell_type": "markdown",
   "metadata": {},
   "source": [
    "# 使用future处理并发"
   ]
  },
  {
   "cell_type": "markdown",
   "metadata": {},
   "source": [
    "## future指一种对象，表示异步执行的操作"
   ]
  },
  {
   "cell_type": "code",
   "execution_count": 1,
   "metadata": {},
   "outputs": [],
   "source": [
    "import os\n",
    "import time\n",
    "import sys\n",
    "import requests\n",
    "\n",
    "POP20_CC = ('CN IN US ID BR PK NG BD RU JP MX PH VN ET EG DE IR TR CD FR').split()\n",
    "\n",
    "BASE_URL = 'http://flupy.org/data/flags'\n",
    "\n",
    "DEST_DIR = 'downloads/'\n",
    "\n",
    "\n",
    "def save_flag(img, filename):\n",
    "    path = os.path.join(DEST_DIR, filename)\n",
    "    with open(path, 'wb') as fp:\n",
    "        fp.write(img)\n",
    "        \n",
    "\n",
    "def get_flag(cc):\n",
    "    url = '{}/{cc}/{cc}.gif'.format(BASE_URL, cc=cc.lower())\n",
    "    resp = requests.get(url)\n",
    "    return resp.content\n",
    "\n",
    "\n",
    "def show(text):\n",
    "    print(text, end=' ')\n",
    "    sys.stdout.flush()\n",
    "    \n",
    "    \n",
    "def download_many(cc_list):\n",
    "    for cc in sorted(cc_list):\n",
    "        image = get_flag(cc)\n",
    "        show(cc)\n",
    "        save_flag(image, cc.lower() + '.gif')\n",
    "    \n",
    "    return len(cc_list)\n",
    "\n",
    "\n",
    "def main(download_many):\n",
    "    t0 = time.time()\n",
    "    count = download_many(POP20_CC)\n",
    "    elapsed = time.time() - t0\n",
    "    msg = '\\n{} flags downloaded in {:.2f}s'\n",
    "    print(msg.format(count, elapsed))"
   ]
  },
  {
   "cell_type": "code",
   "execution_count": 16,
   "metadata": {},
   "outputs": [
    {
     "name": "stdout",
     "output_type": "stream",
     "text": [
      "BD BR CD CN DE EG ET FR ID IN IR JP MX NG PH PK RU TR US VN \n",
      "20 flags downloaded in 5.24s\n"
     ]
    }
   ],
   "source": [
    "main(download_many)"
   ]
  },
  {
   "cell_type": "markdown",
   "metadata": {},
   "source": [
    "### 使用futures.ThreadPoolExecutor类实现多线程下载的脚本"
   ]
  },
  {
   "cell_type": "code",
   "execution_count": 2,
   "metadata": {},
   "outputs": [],
   "source": [
    "from concurrent import futures\n",
    "\n",
    "MAX_WORKERS = 20\n",
    "\n",
    "\n",
    "def download_one(cc):\n",
    "    image = get_flag(cc)\n",
    "    show(cc)\n",
    "    save_flag(image, cc.lower() + '.gif')\n",
    "    return cc\n",
    "\n",
    "\n",
    "def download_many(cc_list):\n",
    "    workers = min(MAX_WORKERS, len(cc_list))\n",
    "    with futures.ThreadPoolExecutor(workers) as executor:\n",
    "        res = executor.map(download_one, sorted(cc_list))    \n",
    "        # 返回值是一个迭代器，迭代器的__next__方法调用各个future的result()方法，因此我们得到的是各个future的结果，而非future本身\n",
    "        # future对象可理解为可调用对象download_one的排期（即future对象由Executor.submit(download_one)取得）\n",
    "        # 这个函数返回结果的顺序与调用开始的顺序一致，只不过在迭代器res上调用__next__（调用各个future的result的方法）时会发生阻塞\n",
    "    return len(list(res))"
   ]
  },
  {
   "cell_type": "code",
   "execution_count": 26,
   "metadata": {},
   "outputs": [
    {
     "name": "stdout",
     "output_type": "stream",
     "text": [
      "US VN IR NG IN BD JP FR CN BR EG RUID  DE PH ET MX TRCD  PK \n",
      "20 flags downloaded in 1.06s\n"
     ]
    }
   ],
   "source": [
    "main(download_many)"
   ]
  },
  {
   "cell_type": "code",
   "execution_count": 7,
   "metadata": {},
   "outputs": [],
   "source": [
    "def download_one(cc):\n",
    "    image = get_flag(cc)\n",
    "    show(cc)\n",
    "    save_flag(image, cc.lower() + '.gif')\n",
    "    return cc\n",
    "\n",
    "\n",
    "def download_many(cc_list):\n",
    "    cc_list = cc_list[:5]\n",
    "    with futures.ThreadPoolExecutor(max_workers=3) as executor:    # 结果的顺序与工作的线程数有关\n",
    "        to_do = []\n",
    "        for cc in sorted(cc_list):\n",
    "            future = executor.submit(download_one, cc)\n",
    "            to_do.append(future)\n",
    "            msg = 'Scheduled for {}: {}'\n",
    "            print(msg.format(cc, future))\n",
    "            \n",
    "        results = []\n",
    "        for future in futures.as_completed(to_do):    \n",
    "            # as_completed函数在future运行结束后产出future（它的参数是一个future列表，返回值是一个迭代器）\n",
    "            res = future.result()\n",
    "            msg = '{} result: {!r}'\n",
    "            print(msg.format(future, res))\n",
    "            results.append(res)\n",
    "            \n",
    "    return len(results)"
   ]
  },
  {
   "cell_type": "code",
   "execution_count": 8,
   "metadata": {},
   "outputs": [
    {
     "name": "stdout",
     "output_type": "stream",
     "text": [
      "Scheduled for BR: <Future at 0x7efdf8b23a60 state=running>\n",
      "Scheduled for CN: <Future at 0x7efdf9567dc0 state=running>\n",
      "Scheduled for ID: <Future at 0x7efdf95594c0 state=running>\n",
      "Scheduled for IN: <Future at 0x7efdf8b45310 state=pending>\n",
      "Scheduled for US: <Future at 0x7efdf82fc070 state=pending>\n",
      "BR CN ID <Future at 0x7efdf8b23a60 state=finished returned str> result: 'BR'\n",
      "<Future at 0x7efdf9567dc0 state=finished returned str> result: 'CN'\n",
      "<Future at 0x7efdf95594c0 state=finished returned str> result: 'ID'\n",
      "IN <Future at 0x7efdf8b45310 state=finished returned str> result: 'IN'\n",
      "US <Future at 0x7efdf82fc070 state=finished returned str> result: 'US'\n",
      "\n",
      "5 flags downloaded in 0.47s\n"
     ]
    }
   ],
   "source": [
    "main(download_many) "
   ]
  },
  {
   "cell_type": "code",
   "execution_count": 31,
   "metadata": {
    "scrolled": true
   },
   "outputs": [
    {
     "name": "stdout",
     "output_type": "stream",
     "text": [
      "[16:52:15] Script starting.\n",
      "[16:52:15] loiter(0): doing nothing for 0s\n",
      "[16:52:15] loiter(0): done\n",
      "[16:52:15] \tloiter(1): doing nothing for 1s\n",
      "[16:52:15] \t\tloiter(2): doing nothing for 2s\n",
      "[16:52:15] \t\t\tloiter(3): doing nothing for 3s\n",
      "[16:52:15] results: <generator object Executor.map.<locals>.result_iterator at 0x7fa5e84f25f0>\n",
      "[16:52:15] Waiting for individual results:\n",
      "[16:52:15] result 0: 0\n",
      "[16:52:16] \tloiter(1): done\n",
      "[16:52:16] \t\t\t\tloiter(4): doing nothing for 4s\n",
      "[16:52:16] result 1: 10\n",
      "[16:52:17] \t\tloiter(2): done\n",
      "[16:52:17] result 2: 20\n",
      "[16:52:18] \t\t\tloiter(3): done\n",
      "[16:52:18] result 3: 30\n",
      "[16:52:20] \t\t\t\tloiter(4): done\n",
      "[16:52:20] result 4: 40\n"
     ]
    }
   ],
   "source": [
    "from time import time, strftime\n",
    "from concurrent import futures\n",
    "from time import sleep\n",
    "\n",
    "\n",
    "def display(*args):\n",
    "    print(strftime('[%H:%M:%S]'), end=' ')\n",
    "    print(*args)\n",
    "    \n",
    "    \n",
    "def loiter(n):\n",
    "    msg = '{}loiter({}): doing nothing for {}s'\n",
    "    display(msg.format('\\t'*n, n, n))\n",
    "    sleep(n)\n",
    "    msg = '{}loiter({}): done'\n",
    "    display(msg.format('\\t'*n, n))\n",
    "    return n * 10\n",
    "\n",
    "\n",
    "def main():\n",
    "    display('Script starting.')\n",
    "    executor = futures.ThreadPoolExecutor(max_workers=3)\n",
    "    results = executor.map(loiter, range(5))\n",
    "    display('results:', results)\n",
    "    display('Waiting for individual results:')\n",
    "    for i, result in enumerate(results):    # 这个函数返回结果的顺序与调用开始的顺序一致\n",
    "        display('result {}: {}'.format(i, result))\n",
    "        \n",
    "\n",
    "main()"
   ]
  },
  {
   "cell_type": "markdown",
   "metadata": {},
   "source": [
    "## 显示下载进度并处理错误"
   ]
  },
  {
   "cell_type": "code",
   "execution_count": 6,
   "metadata": {},
   "outputs": [],
   "source": [
    "import requests\n",
    "from enum import Enum\n",
    "from collections import namedtuple\n",
    "\n",
    "\n",
    "HTTPStatus = Enum('Status', 'ok not_found error')\n",
    "Result = namedtuple('Result', 'status data')\n",
    "\n",
    "\n",
    "def get_flag(base_url, cc):\n",
    "    url = '{}/{cc}/{cc}.gif'.format(base_url, cc=cc.lower())\n",
    "    resp = request.get(url)\n",
    "    if resp.status_code != 200:\n",
    "        resp.raise_for_status()\n",
    "    return resp.content\n",
    "\n",
    "\n",
    "def download_one(cc, base_url, verbose=False):\n",
    "    try:\n",
    "        image = get_flag(base_url, cc)\n",
    "    except requests.exceptions.HTTPError as exc:\n",
    "        res = exc.response\n",
    "        if res.status_code == 404:\n",
    "            status = HTTPStatus.not_found\n",
    "            msg = 'not found'\n",
    "        else:\n",
    "            raise\n",
    "    else:\n",
    "        save_flag(image, cc.lower() + '.gif')\n",
    "        status = HTTPStatus.ok\n",
    "        msg = 'ok'\n",
    "        \n",
    "    if verbose:\n",
    "        print(cc, msg)\n",
    "        \n",
    "    return Result(status, cc)"
   ]
  },
  {
   "cell_type": "code",
   "execution_count": 7,
   "metadata": {},
   "outputs": [],
   "source": [
    "import collections\n",
    "\n",
    "import tqdm\n",
    "\n",
    "\n",
    "def download_many(cc_list, base_url, verbose, max_req):\n",
    "    counter = collections.Counter()\n",
    "    cc_iter = sorted(cc_list)\n",
    "    if not verbose:\n",
    "        cc_iter = tqdm.tqdm(cc_iter)\n",
    "    for cc in cc_iter:\n",
    "        try:\n",
    "            res = download_one(cc, base_url, verbose)\n",
    "        except requests.exceptions.HTTPError as exc:\n",
    "            error_msg = 'HTTP error {res.status_code} - {res.reason}'\n",
    "            error_msg = error_msg.format(res=exc.response)\n",
    "        except requests.exceptions.ConnectionError as exc:\n",
    "            error_msg = 'Connection error'\n",
    "        else:\n",
    "            error_msg = ''\n",
    "            status = res.status\n",
    "            \n",
    "        if error_msg:\n",
    "            status = HTTPStatus.error\n",
    "        counter[status] += 1\n",
    "        if verbose and error_msg:\n",
    "            print('*** Error for {}: {}'.format(cc, error_msg))\n",
    "            \n",
    "    return counter"
   ]
  },
  {
   "cell_type": "code",
   "execution_count": 8,
   "metadata": {},
   "outputs": [],
   "source": [
    "import collections\n",
    "from concurrent import futures\n",
    "import requests\n",
    "\n",
    "import tqdm\n",
    "\n",
    "from flags2_common import main, HTTPStatus\n",
    "from flags2_sequential import download_one\n",
    "\n",
    "DEFAULT_CONCUR_REQ = 30\n",
    "MAX_CONCUR_REQ = 1000\n",
    "\n",
    "\n",
    "def download_many(cc_list, base_url, verbose, concur_req):\n",
    "    counter = collections.Counter()\n",
    "    with futures.ThreadPoolExecutor(max_workers=concur_req) as executor:\n",
    "        to_do_map = {}\n",
    "        for cc in sorted(cc_list):\n",
    "            future = executor.submit(download_one, cc, base_url, verbose)\n",
    "            to_do_map[future] = cc\n",
    "        done_iter = futures.as_completed(to_do_map)\n",
    "        if not verbose:\n",
    "            done_iter = tqdm.tqdm(done_iter, total=len(cc_list))\n",
    "            # 为了更新进度条，各个future运行结束后立即获取结果\n",
    "        for future in done_iter:\n",
    "            try:\n",
    "                res = future.result()\n",
    "            except requests.exceptions.HTTPError as exc:\n",
    "                error_msg = 'HTTP error {res.status_code} - {res.reason}'\n",
    "                error_msg = error_msg.format(res=exc.response)\n",
    "            except requests.exceptions.ConnectionError as exc:\n",
    "                error_msg = 'Connection error'\n",
    "            else:\n",
    "                error_msg = ''\n",
    "                status = res.status\n",
    "                \n",
    "            if error_msg:\n",
    "                status = HTTPStatus.error\n",
    "            counter[status] += 1\n",
    "            if verbose and error_msg:\n",
    "                cc = to_do_map[future]\n",
    "                print('*** Error for {}: {}'.format(cc, error_msg))\n",
    "    return counter"
   ]
  }
 ],
 "metadata": {
  "kernelspec": {
   "display_name": "Python 3",
   "language": "python",
   "name": "python3"
  },
  "language_info": {
   "codemirror_mode": {
    "name": "ipython",
    "version": 3
   },
   "file_extension": ".py",
   "mimetype": "text/x-python",
   "name": "python",
   "nbconvert_exporter": "python",
   "pygments_lexer": "ipython3",
   "version": "3.8.5"
  }
 },
 "nbformat": 4,
 "nbformat_minor": 4
}
