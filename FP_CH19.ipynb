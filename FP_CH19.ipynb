{
 "cells": [
  {
   "cell_type": "markdown",
   "metadata": {},
   "source": [
    "# 动态属性和特性"
   ]
  },
  {
   "cell_type": "code",
   "execution_count": 5,
   "metadata": {},
   "outputs": [],
   "source": [
    "from urllib.request import urlopen\n",
    "import warnings\n",
    "import os\n",
    "import json\n",
    "\n",
    "\n",
    "URL = 'http://www.oreilly.com/pub/sc/osconfeed'\n",
    "JSON = 'osconfeed.json'\n",
    "\n",
    "\n",
    "def load():\n",
    "    if not os.path.exists(JSON):\n",
    "        msg = 'downloading {} to {}'.format(URL, JSON)\n",
    "        warnings.warn(msg)\n",
    "        with urlopen(URL) as remote, open(JSON, 'wb') as local:\n",
    "            local.write(remote.read())\n",
    "    with open(JSON) as fp:\n",
    "        return json.load(fp)"
   ]
  },
  {
   "cell_type": "code",
   "execution_count": 6,
   "metadata": {},
   "outputs": [],
   "source": [
    "feed = load()"
   ]
  },
  {
   "cell_type": "code",
   "execution_count": 7,
   "metadata": {},
   "outputs": [
    {
     "data": {
      "text/plain": [
       "['conferences', 'events', 'speakers', 'venues']"
      ]
     },
     "execution_count": 7,
     "metadata": {},
     "output_type": "execute_result"
    }
   ],
   "source": [
    "sorted(feed['Schedule'].keys())"
   ]
  },
  {
   "cell_type": "code",
   "execution_count": 8,
   "metadata": {},
   "outputs": [
    {
     "name": "stdout",
     "output_type": "stream",
     "text": [
      "  1 conferences\n",
      "494 events\n",
      "357 speakers\n",
      " 53 venues\n"
     ]
    }
   ],
   "source": [
    "for key, value in sorted(feed['Schedule'].items()):\n",
    "    print('{:3} {}'.format(len(value), key))"
   ]
  },
  {
   "cell_type": "code",
   "execution_count": 9,
   "metadata": {},
   "outputs": [
    {
     "data": {
      "text/plain": [
       "'Carina C. Zona'"
      ]
     },
     "execution_count": 9,
     "metadata": {},
     "output_type": "execute_result"
    }
   ],
   "source": [
    "feed['Schedule']['speakers'][-1]['name']"
   ]
  },
  {
   "cell_type": "code",
   "execution_count": 10,
   "metadata": {},
   "outputs": [
    {
     "data": {
      "text/plain": [
       "141590"
      ]
     },
     "execution_count": 10,
     "metadata": {},
     "output_type": "execute_result"
    }
   ],
   "source": [
    "feed['Schedule']['speakers'][-1]['serial']"
   ]
  },
  {
   "cell_type": "code",
   "execution_count": 11,
   "metadata": {},
   "outputs": [
    {
     "data": {
      "text/plain": [
       "'There *Will* Be Bugs'"
      ]
     },
     "execution_count": 11,
     "metadata": {},
     "output_type": "execute_result"
    }
   ],
   "source": [
    "feed['Schedule']['events'][40]['name']"
   ]
  },
  {
   "cell_type": "code",
   "execution_count": 12,
   "metadata": {},
   "outputs": [
    {
     "data": {
      "text/plain": [
       "[3471, 5199]"
      ]
     },
     "execution_count": 12,
     "metadata": {},
     "output_type": "execute_result"
    }
   ],
   "source": [
    "feed['Schedule']['events'][40]['speakers']"
   ]
  },
  {
   "cell_type": "code",
   "execution_count": 13,
   "metadata": {},
   "outputs": [],
   "source": [
    "from collections import abc\n",
    "\n",
    "\n",
    "class FrozenJSON:\n",
    "    \n",
    "    def __init__(self, mapping):\n",
    "        self.__data = dict(mapping)\n",
    "    \n",
    "    def __getattr__(self, name):\n",
    "        if hasattr(self.__data, name):    # 如果name是实例属性__data的属性，返回那个属性。\n",
    "            # 调用items，keys等方法（数据的属性以及处理数据的方法统称属性）就是通过这种方式处理的。\n",
    "            return getattr(self.__data, name)\n",
    "        else:\n",
    "            return FrozenJSON.build(self.__data[name])\n",
    "                \n",
    "    @classmethod\n",
    "    def build(cls, obj):\n",
    "        if isinstance(obj, abc.Mapping):\n",
    "            return cls(obj)\n",
    "        elif isinstance(obj, abc.MutableSequence):\n",
    "            return [cls.build(item) for item in obj]\n",
    "        else:\n",
    "            return obj"
   ]
  },
  {
   "cell_type": "code",
   "execution_count": 14,
   "metadata": {},
   "outputs": [],
   "source": [
    "raw_feed = load()\n",
    "feed = FrozenJSON(raw_feed)"
   ]
  },
  {
   "cell_type": "code",
   "execution_count": 15,
   "metadata": {},
   "outputs": [
    {
     "data": {
      "text/plain": [
       "__main__.FrozenJSON"
      ]
     },
     "execution_count": 15,
     "metadata": {},
     "output_type": "execute_result"
    }
   ],
   "source": [
    "type(feed)"
   ]
  },
  {
   "cell_type": "code",
   "execution_count": 16,
   "metadata": {},
   "outputs": [
    {
     "data": {
      "text/plain": [
       "__main__.FrozenJSON"
      ]
     },
     "execution_count": 16,
     "metadata": {},
     "output_type": "execute_result"
    }
   ],
   "source": [
    "type(feed.Schedule)"
   ]
  },
  {
   "cell_type": "code",
   "execution_count": 17,
   "metadata": {},
   "outputs": [
    {
     "data": {
      "text/plain": [
       "__main__.FrozenJSON"
      ]
     },
     "execution_count": 17,
     "metadata": {},
     "output_type": "execute_result"
    }
   ],
   "source": [
    "type(feed.Schedule.speakers[124])"
   ]
  },
  {
   "cell_type": "code",
   "execution_count": 18,
   "metadata": {},
   "outputs": [
    {
     "data": {
      "text/plain": [
       "357"
      ]
     },
     "execution_count": 18,
     "metadata": {},
     "output_type": "execute_result"
    }
   ],
   "source": [
    "len(feed.Schedule.speakers)"
   ]
  },
  {
   "cell_type": "code",
   "execution_count": 19,
   "metadata": {},
   "outputs": [
    {
     "name": "stdout",
     "output_type": "stream",
     "text": [
      "  1 conferences\n",
      "494 events\n",
      "357 speakers\n",
      " 53 venues\n"
     ]
    }
   ],
   "source": [
    "for key, value in sorted(feed.Schedule.items()):\n",
    "    print('{:3} {}'.format(len(value), key))"
   ]
  },
  {
   "cell_type": "code",
   "execution_count": 22,
   "metadata": {},
   "outputs": [
    {
     "data": {
      "text/plain": [
       "'Carina C. Zona'"
      ]
     },
     "execution_count": 22,
     "metadata": {},
     "output_type": "execute_result"
    }
   ],
   "source": [
    "feed.Schedule.speakers[-1].name"
   ]
  },
  {
   "cell_type": "code",
   "execution_count": 60,
   "metadata": {},
   "outputs": [
    {
     "data": {
      "text/plain": [
       "__main__.FrozenJSON"
      ]
     },
     "execution_count": 60,
     "metadata": {},
     "output_type": "execute_result"
    }
   ],
   "source": [
    "talk = feed.Schedule.events[40]\n",
    "type(talk)"
   ]
  },
  {
   "cell_type": "code",
   "execution_count": 61,
   "metadata": {},
   "outputs": [
    {
     "data": {
      "text/plain": [
       "'There *Will* Be Bugs'"
      ]
     },
     "execution_count": 61,
     "metadata": {},
     "output_type": "execute_result"
    }
   ],
   "source": [
    "talk.name"
   ]
  },
  {
   "cell_type": "code",
   "execution_count": 62,
   "metadata": {},
   "outputs": [
    {
     "data": {
      "text/plain": [
       "[3471, 5199]"
      ]
     },
     "execution_count": 62,
     "metadata": {},
     "output_type": "execute_result"
    }
   ],
   "source": [
    "talk.speakers"
   ]
  },
  {
   "cell_type": "code",
   "execution_count": 63,
   "metadata": {},
   "outputs": [
    {
     "ename": "KeyError",
     "evalue": "'flavor'",
     "output_type": "error",
     "traceback": [
      "\u001b[0;31m---------------------------------------------------------------------------\u001b[0m",
      "\u001b[0;31mKeyError\u001b[0m                                  Traceback (most recent call last)",
      "\u001b[0;32m<ipython-input-63-abf3275fce15>\u001b[0m in \u001b[0;36m<module>\u001b[0;34m\u001b[0m\n\u001b[0;32m----> 1\u001b[0;31m \u001b[0mtalk\u001b[0m\u001b[0;34m.\u001b[0m\u001b[0mflavor\u001b[0m\u001b[0;34m\u001b[0m\u001b[0;34m\u001b[0m\u001b[0m\n\u001b[0m",
      "\u001b[0;32m<ipython-input-52-d7173d4fad9e>\u001b[0m in \u001b[0;36m__getattr__\u001b[0;34m(self, name)\u001b[0m\n\u001b[1;32m     12\u001b[0m             \u001b[0;32mreturn\u001b[0m \u001b[0mgetattr\u001b[0m\u001b[0;34m(\u001b[0m\u001b[0mself\u001b[0m\u001b[0;34m.\u001b[0m\u001b[0m__data\u001b[0m\u001b[0;34m,\u001b[0m \u001b[0mname\u001b[0m\u001b[0;34m)\u001b[0m\u001b[0;34m\u001b[0m\u001b[0;34m\u001b[0m\u001b[0m\n\u001b[1;32m     13\u001b[0m         \u001b[0;32melse\u001b[0m\u001b[0;34m:\u001b[0m\u001b[0;34m\u001b[0m\u001b[0;34m\u001b[0m\u001b[0m\n\u001b[0;32m---> 14\u001b[0;31m             \u001b[0;32mreturn\u001b[0m \u001b[0mFrozenJSON\u001b[0m\u001b[0;34m.\u001b[0m\u001b[0mbuild\u001b[0m\u001b[0;34m(\u001b[0m\u001b[0mself\u001b[0m\u001b[0;34m.\u001b[0m\u001b[0m__data\u001b[0m\u001b[0;34m[\u001b[0m\u001b[0mname\u001b[0m\u001b[0;34m]\u001b[0m\u001b[0;34m)\u001b[0m\u001b[0;34m\u001b[0m\u001b[0;34m\u001b[0m\u001b[0m\n\u001b[0m\u001b[1;32m     15\u001b[0m \u001b[0;34m\u001b[0m\u001b[0m\n\u001b[1;32m     16\u001b[0m     \u001b[0;34m@\u001b[0m\u001b[0mclassmethod\u001b[0m\u001b[0;34m\u001b[0m\u001b[0;34m\u001b[0m\u001b[0m\n",
      "\u001b[0;31mKeyError\u001b[0m: 'flavor'"
     ]
    }
   ],
   "source": [
    "talk.flavor"
   ]
  },
  {
   "cell_type": "code",
   "execution_count": 66,
   "metadata": {},
   "outputs": [
    {
     "data": {
      "text/plain": [
       "{'_FrozenJSON__data': {'serial': 33950,\n",
       "  'name': 'There *Will* Be Bugs',\n",
       "  'event_type': '40-minute conference session',\n",
       "  'time_start': '2014-07-23 14:30:00',\n",
       "  'time_stop': '2014-07-23 15:10:00',\n",
       "  'venue_serial': 1449,\n",
       "  'description': 'If you&#39;re pushing the envelope of programming (or of your own skills)... and even when you’re not... there *will* be bugs in your code.  Don&#39;t panic!  We cover the attitudes and skills (not taught in most schools) to minimize your bugs, track them, find them, fix them, ensure they never recur, and deploy fixes to your users.\\r\\n',\n",
       "  'website_url': 'https://conferences.oreilly.com/oscon/oscon2014/public/schedule/detail/33950',\n",
       "  'speakers': [3471, 5199],\n",
       "  'categories': ['Python']}}"
      ]
     },
     "execution_count": 66,
     "metadata": {},
     "output_type": "execute_result"
    }
   ],
   "source": [
    "talk.__dict__"
   ]
  },
  {
   "cell_type": "code",
   "execution_count": 67,
   "metadata": {},
   "outputs": [
    {
     "data": {
      "text/plain": [
       "True"
      ]
     },
     "execution_count": 67,
     "metadata": {},
     "output_type": "execute_result"
    }
   ],
   "source": [
    "hasattr(talk, 'items')"
   ]
  },
  {
   "cell_type": "code",
   "execution_count": 68,
   "metadata": {},
   "outputs": [],
   "source": [
    "grad = FrozenJSON({'name': 'Jim Bo', 'class': 1982})"
   ]
  },
  {
   "cell_type": "code",
   "execution_count": 69,
   "metadata": {},
   "outputs": [
    {
     "data": {
      "text/plain": [
       "'Jim Bo'"
      ]
     },
     "execution_count": 69,
     "metadata": {},
     "output_type": "execute_result"
    }
   ],
   "source": [
    "grad.name"
   ]
  },
  {
   "cell_type": "code",
   "execution_count": 70,
   "metadata": {},
   "outputs": [
    {
     "ename": "SyntaxError",
     "evalue": "invalid syntax (<ipython-input-70-bb5c99ef29c5>, line 1)",
     "output_type": "error",
     "traceback": [
      "\u001b[0;36m  File \u001b[0;32m\"<ipython-input-70-bb5c99ef29c5>\"\u001b[0;36m, line \u001b[0;32m1\u001b[0m\n\u001b[0;31m    grad.class\u001b[0m\n\u001b[0m         ^\u001b[0m\n\u001b[0;31mSyntaxError\u001b[0m\u001b[0;31m:\u001b[0m invalid syntax\n"
     ]
    }
   ],
   "source": [
    "grad.class"
   ]
  },
  {
   "cell_type": "code",
   "execution_count": 98,
   "metadata": {},
   "outputs": [
    {
     "ename": "AttributeError",
     "evalue": "type object 'FrozenJSON' has no attribute 'build'",
     "output_type": "error",
     "traceback": [
      "\u001b[0;31m---------------------------------------------------------------------------\u001b[0m",
      "\u001b[0;31mAttributeError\u001b[0m                            Traceback (most recent call last)",
      "\u001b[0;32m<ipython-input-98-30ae7d102e42>\u001b[0m in \u001b[0;36m<module>\u001b[0;34m\u001b[0m\n\u001b[0;32m----> 1\u001b[0;31m \u001b[0mgetattr\u001b[0m\u001b[0;34m(\u001b[0m\u001b[0mgrad\u001b[0m\u001b[0;34m,\u001b[0m \u001b[0;34m'class'\u001b[0m\u001b[0;34m)\u001b[0m\u001b[0;34m\u001b[0m\u001b[0;34m\u001b[0m\u001b[0m\n\u001b[0m",
      "\u001b[0;32m<ipython-input-52-d7173d4fad9e>\u001b[0m in \u001b[0;36m__getattr__\u001b[0;34m(self, name)\u001b[0m\n\u001b[1;32m     12\u001b[0m             \u001b[0;32mreturn\u001b[0m \u001b[0mgetattr\u001b[0m\u001b[0;34m(\u001b[0m\u001b[0mself\u001b[0m\u001b[0;34m.\u001b[0m\u001b[0m__data\u001b[0m\u001b[0;34m,\u001b[0m \u001b[0mname\u001b[0m\u001b[0;34m)\u001b[0m\u001b[0;34m\u001b[0m\u001b[0;34m\u001b[0m\u001b[0m\n\u001b[1;32m     13\u001b[0m         \u001b[0;32melse\u001b[0m\u001b[0;34m:\u001b[0m\u001b[0;34m\u001b[0m\u001b[0;34m\u001b[0m\u001b[0m\n\u001b[0;32m---> 14\u001b[0;31m             \u001b[0;32mreturn\u001b[0m \u001b[0mFrozenJSON\u001b[0m\u001b[0;34m.\u001b[0m\u001b[0mbuild\u001b[0m\u001b[0;34m(\u001b[0m\u001b[0mself\u001b[0m\u001b[0;34m.\u001b[0m\u001b[0m__data\u001b[0m\u001b[0;34m[\u001b[0m\u001b[0mname\u001b[0m\u001b[0;34m]\u001b[0m\u001b[0;34m)\u001b[0m\u001b[0;34m\u001b[0m\u001b[0;34m\u001b[0m\u001b[0m\n\u001b[0m\u001b[1;32m     15\u001b[0m \u001b[0;34m\u001b[0m\u001b[0m\n\u001b[1;32m     16\u001b[0m     \u001b[0;34m@\u001b[0m\u001b[0mclassmethod\u001b[0m\u001b[0;34m\u001b[0m\u001b[0;34m\u001b[0m\u001b[0m\n",
      "\u001b[0;31mAttributeError\u001b[0m: type object 'FrozenJSON' has no attribute 'build'"
     ]
    }
   ],
   "source": [
    "getattr(grad, 'class')"
   ]
  },
  {
   "cell_type": "code",
   "execution_count": 100,
   "metadata": {},
   "outputs": [],
   "source": [
    "from collections import abc\n",
    "import keyword\n",
    "\n",
    "\n",
    "class FrozenJSON:\n",
    "    \n",
    "    def __init__(self, mapping):\n",
    "        self.__data = {}\n",
    "        for key, value in mapping.items():\n",
    "            if keyword.iskeyword(key):\n",
    "                key += '_'\n",
    "            self.__data[key] = value\n",
    "    \n",
    "    def __getattr__(self, name):\n",
    "        if hasattr(self.__data, name):    # 如果name是实例属性__data的属性，返回那个属性。\n",
    "            # 调用items，keys等方法（数据的属性以及处理数据的方法统称属性）就是通过这种方式处理的。\n",
    "            return getattr(self.__data, name)\n",
    "        else:\n",
    "            return FrozenJSON.build(self.__data[name])\n",
    "                \n",
    "    @classmethod\n",
    "    def build(cls, obj):\n",
    "        if isinstance(obj, abc.Mapping):\n",
    "            return cls(obj)\n",
    "        elif isinstance(obj, abc.MutableSequence):\n",
    "            return [cls.build(item) for item in obj]\n",
    "        else:\n",
    "            return obj"
   ]
  },
  {
   "cell_type": "code",
   "execution_count": 101,
   "metadata": {},
   "outputs": [
    {
     "data": {
      "text/plain": [
       "{'_FrozenJSON__data': {'name': 'Jim Bo', 'class_': 1982}}"
      ]
     },
     "execution_count": 101,
     "metadata": {},
     "output_type": "execute_result"
    }
   ],
   "source": [
    "grad = FrozenJSON({'name': 'Jim Bo', 'class': 1982})\n",
    "grad.__dict__"
   ]
  },
  {
   "cell_type": "code",
   "execution_count": 102,
   "metadata": {},
   "outputs": [
    {
     "data": {
      "text/plain": [
       "1982"
      ]
     },
     "execution_count": 102,
     "metadata": {},
     "output_type": "execute_result"
    }
   ],
   "source": [
    "grad.class_"
   ]
  },
  {
   "cell_type": "code",
   "execution_count": 103,
   "metadata": {},
   "outputs": [
    {
     "ename": "SyntaxError",
     "evalue": "invalid syntax (<ipython-input-103-2298960b07b1>, line 2)",
     "output_type": "error",
     "traceback": [
      "\u001b[0;36m  File \u001b[0;32m\"<ipython-input-103-2298960b07b1>\"\u001b[0;36m, line \u001b[0;32m2\u001b[0m\n\u001b[0;31m    x.2be    # 根据语言的语法判断，2be不是有效的python标识符\u001b[0m\n\u001b[0m     ^\u001b[0m\n\u001b[0;31mSyntaxError\u001b[0m\u001b[0;31m:\u001b[0m invalid syntax\n"
     ]
    }
   ],
   "source": [
    "x = FrozenJSON({'2be': 'or not'})    # 如果JSON对象的键不是有效的python标识符，也会出现类似情况\n",
    "x.2be    # 根据语言的语法判断，2be不是有效的python标识符"
   ]
  },
  {
   "cell_type": "markdown",
   "metadata": {},
   "source": [
    "### 使用\\_ _ new_ _方法以更灵活的方式创建对象"
   ]
  },
  {
   "cell_type": "code",
   "execution_count": null,
   "metadata": {},
   "outputs": [],
   "source": [
    "def object_maker(the_class, some_arg):\n",
    "    new_object = the_class.__new__(some_arg)\n",
    "    if isinstance(new_object, the_class):\n",
    "        the_class.__init__(new_object, some_arg)\n",
    "    return new_object"
   ]
  },
  {
   "cell_type": "raw",
   "metadata": {},
   "source": [
    "下述两个语句的作用基本等效\n",
    "x = Foo('bar')\n",
    "x = object_maker(Foo, 'bar')"
   ]
  },
  {
   "cell_type": "code",
   "execution_count": 104,
   "metadata": {},
   "outputs": [],
   "source": [
    "from collections import abc\n",
    "import keyword\n",
    "\n",
    "\n",
    "class FrozenJSON:\n",
    "    \n",
    "    def __new__(cls, arg):    # __new__是类方法，因此第一个参数是类本身，其余的参数与__init__方法一样\n",
    "        if isinstance(arg, abc.Mapping):\n",
    "            return super().__new__(cls)\n",
    "        elif isinstance(arg, abc.MutableSequence):\n",
    "            return [cls[item] for item in arg]\n",
    "        else:\n",
    "            return arg\n",
    "        \n",
    "    def __init__(self, mapping):\n",
    "        self.__data = {}\n",
    "        for key, value in mapping.items():\n",
    "            if keyword.iskeyword(key):\n",
    "                key += '_'\n",
    "            self.__data[key] = value\n",
    "            \n",
    "    def __getattr__(self, name):\n",
    "        if hasattr(self.__data, name):\n",
    "            return getattr(self.__data, name)\n",
    "        else:\n",
    "            return FrozenJSON(self.__data[name])"
   ]
  },
  {
   "cell_type": "code",
   "execution_count": 105,
   "metadata": {},
   "outputs": [],
   "source": [
    "import warnings\n",
    "\n",
    "DB_NAME = 'schedule1_db'\n",
    "CONFERENCE = 'conference.115'\n",
    "\n",
    "\n",
    "class Record:\n",
    "    def __init__(self, **kwargs):\n",
    "        self.__dict__.update(kwargs)\n",
    "    \n",
    "    \n",
    "def load_db(db):\n",
    "    raw_data = load()\n",
    "    warnings.warn('loading ' + DB_NAME)\n",
    "    for collection, rec_list in raw_data['Schedule'].items():\n",
    "        record_type = collection[:-1]\n",
    "        for record in rec_list:\n",
    "            key = '{}.{}'.format(record_type, record['serial'])\n",
    "            record['serial'] = key\n",
    "            db[key] = Record(**record)"
   ]
  },
  {
   "cell_type": "code",
   "execution_count": 106,
   "metadata": {},
   "outputs": [
    {
     "data": {
      "text/plain": [
       "__main__.Record"
      ]
     },
     "execution_count": 106,
     "metadata": {},
     "output_type": "execute_result"
    }
   ],
   "source": [
    "import shelve\n",
    "\n",
    "db = shelve.open(DB_NAME)\n",
    "if CONFERENCE not in db:\n",
    "    load_db(db)\n",
    "\n",
    "speaker = db['speaker.3471']\n",
    "type(speaker)"
   ]
  },
  {
   "cell_type": "code",
   "execution_count": 107,
   "metadata": {},
   "outputs": [
    {
     "data": {
      "text/plain": [
       "('Anna Ravenscroft', 'annaraven')"
      ]
     },
     "execution_count": 107,
     "metadata": {},
     "output_type": "execute_result"
    }
   ],
   "source": [
    "speaker.name, speaker.twitter"
   ]
  },
  {
   "cell_type": "code",
   "execution_count": 108,
   "metadata": {},
   "outputs": [
    {
     "data": {
      "text/plain": [
       "'speaker.3471'"
      ]
     },
     "execution_count": 108,
     "metadata": {},
     "output_type": "execute_result"
    }
   ],
   "source": [
    "speaker.serial"
   ]
  },
  {
   "cell_type": "code",
   "execution_count": 109,
   "metadata": {},
   "outputs": [],
   "source": [
    "db.close()"
   ]
  },
  {
   "cell_type": "markdown",
   "metadata": {},
   "source": [
    "## 使用特性获取链接的记录"
   ]
  },
  {
   "cell_type": "code",
   "execution_count": 110,
   "metadata": {},
   "outputs": [],
   "source": [
    "import warnings\n",
    "import inspect\n",
    "\n",
    "DB_NAME2 = 'schedule2_db'\n",
    "CONFERENCE = 'conference.115'\n",
    "\n",
    "\n",
    "class Record:\n",
    "    def __init__(self, **kwargs):\n",
    "        self.__dict__.update(kwargs)\n",
    "        \n",
    "    def __eq__(self, other):\n",
    "        if isinstance(other, Record):\n",
    "            return self.__dict__ == other.__dict__\n",
    "        else:\n",
    "            return NotImplemented\n",
    "\n",
    "\n",
    "class MissingDatabaseError(RuntimeError):\n",
    "    \"\"\"需要数据库但没有指定数据库时抛出\"\"\"\n",
    "    \n",
    "    \n",
    "class DbRecord(Record):\n",
    "    \n",
    "    __db = None\n",
    "    \n",
    "    @staticmethod\n",
    "    def set_db(db):\n",
    "        DbRecord.__db = db\n",
    "        \n",
    "    @staticmethod\n",
    "    def get_db():\n",
    "        return DbRecord.__db\n",
    "    \n",
    "    @classmethod\n",
    "    def fetch(cls, ident):\n",
    "        db = cls.get_db()\n",
    "        try:\n",
    "            return db[ident]\n",
    "        except TypeError:\n",
    "            if db is None:\n",
    "                msg = \"database not set; call '{}.set_db(my_db)'\"\n",
    "                raise MissingDatabaseError(msg.format(cls.__name__))\n",
    "            else:\n",
    "                raise\n",
    "    \n",
    "    def __repr__(self):\n",
    "        if hasattr(self, 'serial'):\n",
    "            cls_name = self.__class__.__name__\n",
    "            return '<{} serial={!r}>'.format(cls_name, self.serial)\n",
    "        else:\n",
    "            return super().__repr__()\n",
    "\n",
    "        \n",
    "class Event(DbRecord):\n",
    "    \n",
    "    @property\n",
    "    def venue(self):\n",
    "        key = 'venue.{}'.format(self.venue_serial)\n",
    "        return self.__class__.fetch(key)    # 不要写成self.fetch(key)，虽然本示例没有问题\n",
    "    \n",
    "    @property\n",
    "    def speakers(self):    # 这里要联想到特性会覆盖属性！\n",
    "        if not hasattr(self, '_speaker_objs'):\n",
    "            spkr_serials = self.__dict__['speakers']    \n",
    "            # 这里不能写成self.speakers（因为特性的公开名称也是speakers），防止无限递归！\n",
    "            fetch = self.__class__.fetch\n",
    "            self._speaker_objs = [fetch('speaker.{}'.format(key)) for key in spkr_serials]\n",
    "        return self._speaker_objs\n",
    "    \n",
    "    def __repr__(self):\n",
    "        if hasattr(self, 'name'):\n",
    "            cls_name = self.__class__.__name__\n",
    "            return '<{} {!r}>'.format(cls_name, self.name)\n",
    "        else:\n",
    "            return super().__repr__()"
   ]
  },
  {
   "cell_type": "code",
   "execution_count": 111,
   "metadata": {},
   "outputs": [],
   "source": [
    "def load_db(db):\n",
    "    raw_data = load()\n",
    "    warnings.warn('loading ' + DB_NAME2)\n",
    "    for collection, rec_list in raw_data['Schedule'].items():\n",
    "        record_type = collection[:-1]\n",
    "        cls_name = record_type.capitalize()\n",
    "        cls = globals().get(cls_name, DbRecord)\n",
    "        if inspect.isclass(cls) and issubclass(cls, DbRecord):\n",
    "            factory = cls\n",
    "        else:\n",
    "            factory = DbRecord\n",
    "        for record in rec_list:\n",
    "            key = '{}.{}'.format(record_type, record['serial'])\n",
    "            record['serial'] = key\n",
    "            db[key] = factory(**record)"
   ]
  },
  {
   "cell_type": "code",
   "execution_count": 112,
   "metadata": {},
   "outputs": [],
   "source": [
    "import shelve\n",
    "\n",
    "db = shelve.open(DB_NAME2)\n",
    "if CONFERENCE not in db:\n",
    "    load_db(db)"
   ]
  },
  {
   "cell_type": "code",
   "execution_count": 113,
   "metadata": {},
   "outputs": [],
   "source": [
    "DbRecord.set_db(db)"
   ]
  },
  {
   "cell_type": "code",
   "execution_count": 114,
   "metadata": {},
   "outputs": [],
   "source": [
    "event = DbRecord.fetch('event.33950')"
   ]
  },
  {
   "cell_type": "code",
   "execution_count": 115,
   "metadata": {},
   "outputs": [
    {
     "data": {
      "text/plain": [
       "<Event 'There *Will* Be Bugs'>"
      ]
     },
     "execution_count": 115,
     "metadata": {},
     "output_type": "execute_result"
    }
   ],
   "source": [
    "event"
   ]
  },
  {
   "cell_type": "code",
   "execution_count": 116,
   "metadata": {},
   "outputs": [
    {
     "data": {
      "text/plain": [
       "1449"
      ]
     },
     "execution_count": 116,
     "metadata": {},
     "output_type": "execute_result"
    }
   ],
   "source": [
    "event.venue_serial"
   ]
  },
  {
   "cell_type": "code",
   "execution_count": 117,
   "metadata": {},
   "outputs": [
    {
     "data": {
      "text/plain": [
       "<DbRecord serial='venue.1449'>"
      ]
     },
     "execution_count": 117,
     "metadata": {},
     "output_type": "execute_result"
    }
   ],
   "source": [
    "event.venue"
   ]
  },
  {
   "cell_type": "code",
   "execution_count": 118,
   "metadata": {},
   "outputs": [
    {
     "data": {
      "text/plain": [
       "<DbRecord serial='venue.1449'>"
      ]
     },
     "execution_count": 118,
     "metadata": {},
     "output_type": "execute_result"
    }
   ],
   "source": [
    "DbRecord.fetch('venue.1449')"
   ]
  },
  {
   "cell_type": "code",
   "execution_count": 119,
   "metadata": {},
   "outputs": [
    {
     "data": {
      "text/plain": [
       "'Portland 251'"
      ]
     },
     "execution_count": 119,
     "metadata": {},
     "output_type": "execute_result"
    }
   ],
   "source": [
    "event.venue.name"
   ]
  },
  {
   "cell_type": "code",
   "execution_count": 120,
   "metadata": {},
   "outputs": [
    {
     "data": {
      "text/plain": [
       "'Portland 251'"
      ]
     },
     "execution_count": 120,
     "metadata": {},
     "output_type": "execute_result"
    }
   ],
   "source": [
    "db['venue.1449'].name"
   ]
  },
  {
   "cell_type": "code",
   "execution_count": 121,
   "metadata": {},
   "outputs": [
    {
     "data": {
      "text/plain": [
       "<shelve.DbfilenameShelf at 0x7fec45aea700>"
      ]
     },
     "execution_count": 121,
     "metadata": {},
     "output_type": "execute_result"
    }
   ],
   "source": [
    "Event._DbRecord__db    # 继承自DbRecord类的类属性_DbRecord__db"
   ]
  },
  {
   "cell_type": "code",
   "execution_count": 122,
   "metadata": {},
   "outputs": [
    {
     "data": {
      "text/plain": [
       "{'serial': 'venue.1449',\n",
       " 'name': 'Portland 251',\n",
       " 'category': 'Conference Venues'}"
      ]
     },
     "execution_count": 122,
     "metadata": {},
     "output_type": "execute_result"
    }
   ],
   "source": [
    "db['venue.1449'].__dict__    # 实例的__dict__属性保存的是实例属性（包含名称改写的私有实例属性），但不包含私有类属性"
   ]
  },
  {
   "cell_type": "code",
   "execution_count": 123,
   "metadata": {},
   "outputs": [
    {
     "name": "stdout",
     "output_type": "stream",
     "text": [
      "speaker.3471: Anna Ravenscroft\n",
      "speaker.5199: Alex Martelli\n"
     ]
    }
   ],
   "source": [
    "for spkr in event.speakers:\n",
    "    print('{0.serial}: {0.name}'.format(spkr))"
   ]
  },
  {
   "cell_type": "code",
   "execution_count": 124,
   "metadata": {},
   "outputs": [
    {
     "data": {
      "text/plain": [
       "['_DbRecord__db',\n",
       " '__class__',\n",
       " '__delattr__',\n",
       " '__dict__',\n",
       " '__dir__',\n",
       " '__doc__',\n",
       " '__eq__',\n",
       " '__format__',\n",
       " '__ge__',\n",
       " '__getattribute__',\n",
       " '__gt__',\n",
       " '__hash__',\n",
       " '__init__',\n",
       " '__init_subclass__',\n",
       " '__le__',\n",
       " '__lt__',\n",
       " '__module__',\n",
       " '__ne__',\n",
       " '__new__',\n",
       " '__reduce__',\n",
       " '__reduce_ex__',\n",
       " '__repr__',\n",
       " '__setattr__',\n",
       " '__sizeof__',\n",
       " '__str__',\n",
       " '__subclasshook__',\n",
       " '__weakref__',\n",
       " '_speaker_objs',\n",
       " 'categories',\n",
       " 'description',\n",
       " 'event_type',\n",
       " 'fetch',\n",
       " 'get_db',\n",
       " 'name',\n",
       " 'serial',\n",
       " 'set_db',\n",
       " 'speakers',\n",
       " 'time_start',\n",
       " 'time_stop',\n",
       " 'venue',\n",
       " 'venue_serial',\n",
       " 'website_url']"
      ]
     },
     "execution_count": 124,
     "metadata": {},
     "output_type": "execute_result"
    }
   ],
   "source": [
    "dir(event)"
   ]
  },
  {
   "cell_type": "code",
   "execution_count": 125,
   "metadata": {},
   "outputs": [],
   "source": [
    "db.close()"
   ]
  },
  {
   "cell_type": "markdown",
   "metadata": {},
   "source": [
    "## 使用特性验证属性"
   ]
  },
  {
   "cell_type": "code",
   "execution_count": 126,
   "metadata": {},
   "outputs": [],
   "source": [
    "class LineItem:\n",
    "    \n",
    "    def __init__(self, description, weight, price):\n",
    "        self.description = description\n",
    "        self.weight = weight\n",
    "        self.price = price\n",
    "        \n",
    "    def subtotal(self):\n",
    "        return self.weight * self.price"
   ]
  },
  {
   "cell_type": "code",
   "execution_count": 127,
   "metadata": {},
   "outputs": [
    {
     "data": {
      "text/plain": [
       "69.5"
      ]
     },
     "execution_count": 127,
     "metadata": {},
     "output_type": "execute_result"
    }
   ],
   "source": [
    "raisins = LineItem('Golden raisins', 10, 6.95)\n",
    "raisins.subtotal()"
   ]
  },
  {
   "cell_type": "code",
   "execution_count": 128,
   "metadata": {},
   "outputs": [
    {
     "data": {
      "text/plain": [
       "-139.0"
      ]
     },
     "execution_count": 128,
     "metadata": {},
     "output_type": "execute_result"
    }
   ],
   "source": [
    "raisins.weight = -20\n",
    "raisins.subtotal()"
   ]
  },
  {
   "cell_type": "code",
   "execution_count": 129,
   "metadata": {},
   "outputs": [],
   "source": [
    "class LineItem:\n",
    "    \n",
    "    def __init__(self, description, weight, price):\n",
    "        self.description = description\n",
    "        self.weight = weight    # 这一步会调用特性的设值方法，将传入的weight参数赋值给私有属性__weight\n",
    "        self.price = price\n",
    "        \n",
    "    def subtotal(self):\n",
    "        return self.weight * self.price\n",
    "    \n",
    "    @property\n",
    "    def weight(self):\n",
    "        return self.__weight\n",
    "    \n",
    "    @weight.setter\n",
    "    def weight(self, value):\n",
    "        if value > 0:\n",
    "            self.__weight = value    # 真正的值存储在私有属性__weight中\n",
    "        else:\n",
    "            raise ValueError('value must be > 0')    # 验证传入的参数price，如果小于等于0则抛出异常"
   ]
  },
  {
   "cell_type": "code",
   "execution_count": 130,
   "metadata": {},
   "outputs": [
    {
     "ename": "ValueError",
     "evalue": "value must be > 0",
     "output_type": "error",
     "traceback": [
      "\u001b[0;31m---------------------------------------------------------------------------\u001b[0m",
      "\u001b[0;31mValueError\u001b[0m                                Traceback (most recent call last)",
      "\u001b[0;32m<ipython-input-130-2793fed94e5d>\u001b[0m in \u001b[0;36m<module>\u001b[0;34m\u001b[0m\n\u001b[0;32m----> 1\u001b[0;31m \u001b[0mwalnuts\u001b[0m \u001b[0;34m=\u001b[0m \u001b[0mLineItem\u001b[0m\u001b[0;34m(\u001b[0m\u001b[0;34m'walnuts'\u001b[0m\u001b[0;34m,\u001b[0m \u001b[0;36m0\u001b[0m\u001b[0;34m,\u001b[0m \u001b[0;36m10.00\u001b[0m\u001b[0;34m)\u001b[0m\u001b[0;34m\u001b[0m\u001b[0;34m\u001b[0m\u001b[0m\n\u001b[0m",
      "\u001b[0;32m<ipython-input-129-b5428466c035>\u001b[0m in \u001b[0;36m__init__\u001b[0;34m(self, description, weight, price)\u001b[0m\n\u001b[1;32m      3\u001b[0m     \u001b[0;32mdef\u001b[0m \u001b[0m__init__\u001b[0m\u001b[0;34m(\u001b[0m\u001b[0mself\u001b[0m\u001b[0;34m,\u001b[0m \u001b[0mdescription\u001b[0m\u001b[0;34m,\u001b[0m \u001b[0mweight\u001b[0m\u001b[0;34m,\u001b[0m \u001b[0mprice\u001b[0m\u001b[0;34m)\u001b[0m\u001b[0;34m:\u001b[0m\u001b[0;34m\u001b[0m\u001b[0;34m\u001b[0m\u001b[0m\n\u001b[1;32m      4\u001b[0m         \u001b[0mself\u001b[0m\u001b[0;34m.\u001b[0m\u001b[0mdescription\u001b[0m \u001b[0;34m=\u001b[0m \u001b[0mdescription\u001b[0m\u001b[0;34m\u001b[0m\u001b[0;34m\u001b[0m\u001b[0m\n\u001b[0;32m----> 5\u001b[0;31m         \u001b[0mself\u001b[0m\u001b[0;34m.\u001b[0m\u001b[0mweight\u001b[0m \u001b[0;34m=\u001b[0m \u001b[0mweight\u001b[0m    \u001b[0;31m# 这一步会调用特性的设值方法，将传入的weight参数赋值给私有属性__weight\u001b[0m\u001b[0;34m\u001b[0m\u001b[0;34m\u001b[0m\u001b[0m\n\u001b[0m\u001b[1;32m      6\u001b[0m         \u001b[0mself\u001b[0m\u001b[0;34m.\u001b[0m\u001b[0mprice\u001b[0m \u001b[0;34m=\u001b[0m \u001b[0mprice\u001b[0m\u001b[0;34m\u001b[0m\u001b[0;34m\u001b[0m\u001b[0m\n\u001b[1;32m      7\u001b[0m \u001b[0;34m\u001b[0m\u001b[0m\n",
      "\u001b[0;32m<ipython-input-129-b5428466c035>\u001b[0m in \u001b[0;36mweight\u001b[0;34m(self, value)\u001b[0m\n\u001b[1;32m     18\u001b[0m             \u001b[0mself\u001b[0m\u001b[0;34m.\u001b[0m\u001b[0m__weight\u001b[0m \u001b[0;34m=\u001b[0m \u001b[0mvalue\u001b[0m    \u001b[0;31m# 真正的值存储在私有属性__weight中\u001b[0m\u001b[0;34m\u001b[0m\u001b[0;34m\u001b[0m\u001b[0m\n\u001b[1;32m     19\u001b[0m         \u001b[0;32melse\u001b[0m\u001b[0;34m:\u001b[0m\u001b[0;34m\u001b[0m\u001b[0;34m\u001b[0m\u001b[0m\n\u001b[0;32m---> 20\u001b[0;31m             \u001b[0;32mraise\u001b[0m \u001b[0mValueError\u001b[0m\u001b[0;34m(\u001b[0m\u001b[0;34m'value must be > 0'\u001b[0m\u001b[0;34m)\u001b[0m\u001b[0;34m\u001b[0m\u001b[0;34m\u001b[0m\u001b[0m\n\u001b[0m",
      "\u001b[0;31mValueError\u001b[0m: value must be > 0"
     ]
    }
   ],
   "source": [
    "walnuts = LineItem('walnuts', 0, 10.00)"
   ]
  },
  {
   "cell_type": "code",
   "execution_count": 131,
   "metadata": {},
   "outputs": [],
   "source": [
    "walnuts = LineItem('walnuts', 5, 10.00)"
   ]
  },
  {
   "cell_type": "code",
   "execution_count": 132,
   "metadata": {},
   "outputs": [
    {
     "data": {
      "text/plain": [
       "{'description': 'walnuts', '_LineItem__weight': 5, 'price': 10.0}"
      ]
     },
     "execution_count": 132,
     "metadata": {},
     "output_type": "execute_result"
    }
   ],
   "source": [
    "walnuts.__dict__    # 保存实例属性的__dict__字典中不包含特性"
   ]
  },
  {
   "cell_type": "code",
   "execution_count": 133,
   "metadata": {},
   "outputs": [
    {
     "data": {
      "text/plain": [
       "5"
      ]
     },
     "execution_count": 133,
     "metadata": {},
     "output_type": "execute_result"
    }
   ],
   "source": [
    "walnuts.weight"
   ]
  },
  {
   "cell_type": "code",
   "execution_count": 134,
   "metadata": {},
   "outputs": [],
   "source": [
    "walnuts._LineItem__weight = 7"
   ]
  },
  {
   "cell_type": "code",
   "execution_count": 135,
   "metadata": {},
   "outputs": [
    {
     "data": {
      "text/plain": [
       "7"
      ]
     },
     "execution_count": 135,
     "metadata": {},
     "output_type": "execute_result"
    }
   ],
   "source": [
    "walnuts.weight    # 改变私有属性__weight__后，调用特性的读值方法返回的值也会改变"
   ]
  },
  {
   "cell_type": "code",
   "execution_count": 136,
   "metadata": {},
   "outputs": [],
   "source": [
    "class LineItem:\n",
    "    \n",
    "    def __init__(self, description, weight, price):\n",
    "        self.description = description\n",
    "        self.weight = weight    # 这一步会调用特性的设值方法，将传入的weight参数赋值给私有属性__weight\n",
    "        self.price = price\n",
    "        \n",
    "    def subtotal(self):\n",
    "        return self.weight * self.price\n",
    "    \n",
    "    def get_weight(self):\n",
    "        return self.__weight\n",
    "    \n",
    "    def set_weight(self, value):\n",
    "        if value > 0:\n",
    "            self.__weight = value\n",
    "        else:\n",
    "            raise ValueError('value must be > 0')\n",
    "            \n",
    "    weight = property(get_weight, set_weight)     \n",
    "    # 如果没有把函数传给某个参数，那么得到的特性对象(weight)就不允许执行相应的操作！"
   ]
  },
  {
   "cell_type": "code",
   "execution_count": 137,
   "metadata": {},
   "outputs": [],
   "source": [
    "walnuts = LineItem('walnuts', 5, 10.00)"
   ]
  },
  {
   "cell_type": "code",
   "execution_count": 138,
   "metadata": {},
   "outputs": [
    {
     "data": {
      "text/plain": [
       "{'description': 'walnuts', '_LineItem__weight': 5, 'price': 10.0}"
      ]
     },
     "execution_count": 138,
     "metadata": {},
     "output_type": "execute_result"
    }
   ],
   "source": [
    "walnuts.__dict__"
   ]
  },
  {
   "cell_type": "code",
   "execution_count": 139,
   "metadata": {},
   "outputs": [
    {
     "data": {
      "text/plain": [
       "5"
      ]
     },
     "execution_count": 139,
     "metadata": {},
     "output_type": "execute_result"
    }
   ],
   "source": [
    "walnuts.weight"
   ]
  },
  {
   "cell_type": "code",
   "execution_count": 140,
   "metadata": {},
   "outputs": [],
   "source": [
    "walnuts._LineItem__weight = 7"
   ]
  },
  {
   "cell_type": "code",
   "execution_count": 141,
   "metadata": {},
   "outputs": [
    {
     "data": {
      "text/plain": [
       "7"
      ]
     },
     "execution_count": 141,
     "metadata": {},
     "output_type": "execute_result"
    }
   ],
   "source": [
    "walnuts.weight"
   ]
  },
  {
   "cell_type": "code",
   "execution_count": 142,
   "metadata": {},
   "outputs": [],
   "source": [
    "walnuts.weight = 12"
   ]
  },
  {
   "cell_type": "code",
   "execution_count": 143,
   "metadata": {},
   "outputs": [
    {
     "data": {
      "text/plain": [
       "12"
      ]
     },
     "execution_count": 143,
     "metadata": {},
     "output_type": "execute_result"
    }
   ],
   "source": [
    "walnuts._LineItem__weight"
   ]
  },
  {
   "cell_type": "code",
   "execution_count": 144,
   "metadata": {},
   "outputs": [
    {
     "data": {
      "text/plain": [
       "12"
      ]
     },
     "execution_count": 144,
     "metadata": {},
     "output_type": "execute_result"
    }
   ],
   "source": [
    "walnuts.weight"
   ]
  },
  {
   "cell_type": "code",
   "execution_count": 145,
   "metadata": {},
   "outputs": [
    {
     "ename": "ValueError",
     "evalue": "value must be > 0",
     "output_type": "error",
     "traceback": [
      "\u001b[0;31m---------------------------------------------------------------------------\u001b[0m",
      "\u001b[0;31mValueError\u001b[0m                                Traceback (most recent call last)",
      "\u001b[0;32m<ipython-input-145-649dd74446d4>\u001b[0m in \u001b[0;36m<module>\u001b[0;34m\u001b[0m\n\u001b[0;32m----> 1\u001b[0;31m \u001b[0mwalnuts\u001b[0m\u001b[0;34m.\u001b[0m\u001b[0mweight\u001b[0m \u001b[0;34m=\u001b[0m \u001b[0;36m0\u001b[0m\u001b[0;34m\u001b[0m\u001b[0;34m\u001b[0m\u001b[0m\n\u001b[0m",
      "\u001b[0;32m<ipython-input-136-77eea1874a6b>\u001b[0m in \u001b[0;36mset_weight\u001b[0;34m(self, value)\u001b[0m\n\u001b[1;32m     16\u001b[0m             \u001b[0mself\u001b[0m\u001b[0;34m.\u001b[0m\u001b[0m__weight\u001b[0m \u001b[0;34m=\u001b[0m \u001b[0mvalue\u001b[0m\u001b[0;34m\u001b[0m\u001b[0;34m\u001b[0m\u001b[0m\n\u001b[1;32m     17\u001b[0m         \u001b[0;32melse\u001b[0m\u001b[0;34m:\u001b[0m\u001b[0;34m\u001b[0m\u001b[0;34m\u001b[0m\u001b[0m\n\u001b[0;32m---> 18\u001b[0;31m             \u001b[0;32mraise\u001b[0m \u001b[0mValueError\u001b[0m\u001b[0;34m(\u001b[0m\u001b[0;34m'value must be > 0'\u001b[0m\u001b[0;34m)\u001b[0m\u001b[0;34m\u001b[0m\u001b[0;34m\u001b[0m\u001b[0m\n\u001b[0m\u001b[1;32m     19\u001b[0m \u001b[0;34m\u001b[0m\u001b[0m\n\u001b[1;32m     20\u001b[0m     \u001b[0mweight\u001b[0m \u001b[0;34m=\u001b[0m \u001b[0mproperty\u001b[0m\u001b[0;34m(\u001b[0m\u001b[0mget_weight\u001b[0m\u001b[0;34m,\u001b[0m \u001b[0mset_weight\u001b[0m\u001b[0;34m)\u001b[0m\u001b[0;34m\u001b[0m\u001b[0;34m\u001b[0m\u001b[0m\n",
      "\u001b[0;31mValueError\u001b[0m: value must be > 0"
     ]
    }
   ],
   "source": [
    "walnuts.weight = 0"
   ]
  },
  {
   "cell_type": "markdown",
   "metadata": {},
   "source": [
    "### 其实特性就是通过读值方法和设值方法来管理实例属性的存取"
   ]
  },
  {
   "cell_type": "code",
   "execution_count": 146,
   "metadata": {},
   "outputs": [],
   "source": [
    "class Class:\n",
    "    data = 'the class attr'\n",
    "    \n",
    "    @property\n",
    "    def prop(self):\n",
    "        return 'the prop value'"
   ]
  },
  {
   "cell_type": "code",
   "execution_count": 147,
   "metadata": {},
   "outputs": [],
   "source": [
    "obj = Class()"
   ]
  },
  {
   "cell_type": "code",
   "execution_count": 149,
   "metadata": {},
   "outputs": [
    {
     "data": {
      "text/plain": [
       "{}"
      ]
     },
     "execution_count": 149,
     "metadata": {},
     "output_type": "execute_result"
    }
   ],
   "source": [
    "vars(obj)    # vars返回obj的__dict__属性，表明没有实例属性"
   ]
  },
  {
   "cell_type": "code",
   "execution_count": 150,
   "metadata": {},
   "outputs": [
    {
     "data": {
      "text/plain": [
       "'the class attr'"
      ]
     },
     "execution_count": 150,
     "metadata": {},
     "output_type": "execute_result"
    }
   ],
   "source": [
    "obj.data"
   ]
  },
  {
   "cell_type": "code",
   "execution_count": 151,
   "metadata": {},
   "outputs": [],
   "source": [
    "obj.data = 'bar'"
   ]
  },
  {
   "cell_type": "code",
   "execution_count": 152,
   "metadata": {},
   "outputs": [
    {
     "data": {
      "text/plain": [
       "{'data': 'bar'}"
      ]
     },
     "execution_count": 152,
     "metadata": {},
     "output_type": "execute_result"
    }
   ],
   "source": [
    "vars(obj)"
   ]
  },
  {
   "cell_type": "code",
   "execution_count": 153,
   "metadata": {},
   "outputs": [
    {
     "data": {
      "text/plain": [
       "'bar'"
      ]
     },
     "execution_count": 153,
     "metadata": {},
     "output_type": "execute_result"
    }
   ],
   "source": [
    "obj.data"
   ]
  },
  {
   "cell_type": "code",
   "execution_count": 154,
   "metadata": {},
   "outputs": [
    {
     "data": {
      "text/plain": [
       "'the class attr'"
      ]
     },
     "execution_count": 154,
     "metadata": {},
     "output_type": "execute_result"
    }
   ],
   "source": [
    "Class.data"
   ]
  },
  {
   "cell_type": "code",
   "execution_count": 155,
   "metadata": {},
   "outputs": [
    {
     "data": {
      "text/plain": [
       "<property at 0x7fec45fb9680>"
      ]
     },
     "execution_count": 155,
     "metadata": {},
     "output_type": "execute_result"
    }
   ],
   "source": [
    "Class.prop    # 得到的是一个特性对象"
   ]
  },
  {
   "cell_type": "code",
   "execution_count": 156,
   "metadata": {},
   "outputs": [
    {
     "data": {
      "text/plain": [
       "'the prop value'"
      ]
     },
     "execution_count": 156,
     "metadata": {},
     "output_type": "execute_result"
    }
   ],
   "source": [
    "obj.prop"
   ]
  },
  {
   "cell_type": "code",
   "execution_count": 157,
   "metadata": {},
   "outputs": [
    {
     "ename": "AttributeError",
     "evalue": "can't set attribute",
     "output_type": "error",
     "traceback": [
      "\u001b[0;31m---------------------------------------------------------------------------\u001b[0m",
      "\u001b[0;31mAttributeError\u001b[0m                            Traceback (most recent call last)",
      "\u001b[0;32m<ipython-input-157-950b619b2a59>\u001b[0m in \u001b[0;36m<module>\u001b[0;34m\u001b[0m\n\u001b[0;32m----> 1\u001b[0;31m \u001b[0mobj\u001b[0m\u001b[0;34m.\u001b[0m\u001b[0mprop\u001b[0m \u001b[0;34m=\u001b[0m \u001b[0;34m'foo'\u001b[0m\u001b[0;34m\u001b[0m\u001b[0;34m\u001b[0m\u001b[0m\n\u001b[0m",
      "\u001b[0;31mAttributeError\u001b[0m: can't set attribute"
     ]
    }
   ],
   "source": [
    "obj.prop = 'foo'"
   ]
  },
  {
   "cell_type": "code",
   "execution_count": 160,
   "metadata": {},
   "outputs": [],
   "source": [
    "obj.__dict__['prop'] = 'foo'"
   ]
  },
  {
   "cell_type": "code",
   "execution_count": 161,
   "metadata": {},
   "outputs": [
    {
     "data": {
      "text/plain": [
       "'the prop value'"
      ]
     },
     "execution_count": 161,
     "metadata": {},
     "output_type": "execute_result"
    }
   ],
   "source": [
    "obj.prop"
   ]
  },
  {
   "cell_type": "code",
   "execution_count": 162,
   "metadata": {},
   "outputs": [
    {
     "data": {
      "text/plain": [
       "{'data': 'bar', 'prop': 'foo'}"
      ]
     },
     "execution_count": 162,
     "metadata": {},
     "output_type": "execute_result"
    }
   ],
   "source": [
    "vars(obj)"
   ]
  },
  {
   "cell_type": "code",
   "execution_count": 163,
   "metadata": {},
   "outputs": [],
   "source": [
    "Class.prop = 'baz'    # 覆盖Class.prop特性，销毁特性对象"
   ]
  },
  {
   "cell_type": "code",
   "execution_count": 164,
   "metadata": {},
   "outputs": [
    {
     "data": {
      "text/plain": [
       "'baz'"
      ]
     },
     "execution_count": 164,
     "metadata": {},
     "output_type": "execute_result"
    }
   ],
   "source": [
    "Class.prop"
   ]
  },
  {
   "cell_type": "code",
   "execution_count": 165,
   "metadata": {},
   "outputs": [
    {
     "data": {
      "text/plain": [
       "'foo'"
      ]
     },
     "execution_count": 165,
     "metadata": {},
     "output_type": "execute_result"
    }
   ],
   "source": [
    "obj.prop"
   ]
  },
  {
   "cell_type": "code",
   "execution_count": 166,
   "metadata": {},
   "outputs": [
    {
     "data": {
      "text/plain": [
       "'bar'"
      ]
     },
     "execution_count": 166,
     "metadata": {},
     "output_type": "execute_result"
    }
   ],
   "source": [
    "obj.data"
   ]
  },
  {
   "cell_type": "code",
   "execution_count": 167,
   "metadata": {},
   "outputs": [
    {
     "data": {
      "text/plain": [
       "'the class attr'"
      ]
     },
     "execution_count": 167,
     "metadata": {},
     "output_type": "execute_result"
    }
   ],
   "source": [
    "Class.data"
   ]
  },
  {
   "cell_type": "code",
   "execution_count": 168,
   "metadata": {},
   "outputs": [],
   "source": [
    "Class.data = property(lambda self: 'the \"data\" prop value')"
   ]
  },
  {
   "cell_type": "code",
   "execution_count": 169,
   "metadata": {},
   "outputs": [
    {
     "data": {
      "text/plain": [
       "'the \"data\" prop value'"
      ]
     },
     "execution_count": 169,
     "metadata": {},
     "output_type": "execute_result"
    }
   ],
   "source": [
    "obj.data    # 现在obj.__class__中寻找attr，今当类中没有名为attr的特性时，才会在obj实例中寻找"
   ]
  },
  {
   "cell_type": "code",
   "execution_count": 170,
   "metadata": {},
   "outputs": [],
   "source": [
    "del Class.data"
   ]
  },
  {
   "cell_type": "code",
   "execution_count": 172,
   "metadata": {},
   "outputs": [
    {
     "data": {
      "text/plain": [
       "'bar'"
      ]
     },
     "execution_count": 172,
     "metadata": {},
     "output_type": "execute_result"
    }
   ],
   "source": [
    "obj.data"
   ]
  },
  {
   "cell_type": "code",
   "execution_count": 173,
   "metadata": {},
   "outputs": [],
   "source": [
    "class LineItem:\n",
    "    \n",
    "    def __init__(self, description, weight, price):\n",
    "        self.description = description\n",
    "        self.weight = weight    # 这一步会调用特性的设值方法，将传入的weight参数赋值给私有属性__weight\n",
    "        self.price = price\n",
    "        \n",
    "    def subtotal(self):\n",
    "        return self.weight * self.price\n",
    "    \n",
    "    def get_weight(self):\n",
    "        return self.__weight\n",
    "    \n",
    "    def set_weight(self, value):\n",
    "        if value > 0:\n",
    "            self.__weight = value\n",
    "        else:\n",
    "            raise ValueError('value must be > 0')\n",
    "            \n",
    "    weight = property(get_weight, set_weight, doc='weight in kilograms')     \n",
    "    # 如果没有把函数传给某个参数，那么得到的特性对象(weight)就不允许执行对应的操作！"
   ]
  },
  {
   "cell_type": "code",
   "execution_count": 175,
   "metadata": {},
   "outputs": [
    {
     "name": "stdout",
     "output_type": "stream",
     "text": [
      "Help on property:\n",
      "\n",
      "    weight in kilograms\n",
      "\n"
     ]
    }
   ],
   "source": [
    "help(LineItem.weight)"
   ]
  },
  {
   "cell_type": "code",
   "execution_count": 180,
   "metadata": {},
   "outputs": [],
   "source": [
    "class Foo:\n",
    "    \n",
    "    @property\n",
    "    def bar(self):\n",
    "        \"\"\"The bar attribute\"\"\"\n",
    "        return self.__dict__['bar']\n",
    "    \n",
    "    @bar.setter\n",
    "    def bar(self, value):\n",
    "        self.__dict__['bar'] = value"
   ]
  },
  {
   "cell_type": "code",
   "execution_count": 188,
   "metadata": {},
   "outputs": [
    {
     "name": "stdout",
     "output_type": "stream",
     "text": [
      "Help on property:\n",
      "\n",
      "    The bar attribute\n",
      "\n"
     ]
    }
   ],
   "source": [
    "help(Foo.bar)"
   ]
  },
  {
   "cell_type": "code",
   "execution_count": 189,
   "metadata": {},
   "outputs": [
    {
     "name": "stdout",
     "output_type": "stream",
     "text": [
      "Help on class Foo in module __main__:\n",
      "\n",
      "class Foo(builtins.object)\n",
      " |  Data descriptors defined here:\n",
      " |  \n",
      " |  __dict__\n",
      " |      dictionary for instance variables (if defined)\n",
      " |  \n",
      " |  __weakref__\n",
      " |      list of weak references to the object (if defined)\n",
      " |  \n",
      " |  bar\n",
      " |      The bar attribute\n",
      "\n"
     ]
    }
   ],
   "source": [
    "help(Foo)"
   ]
  },
  {
   "cell_type": "code",
   "execution_count": 190,
   "metadata": {},
   "outputs": [],
   "source": [
    "def quantity(storage_name):\n",
    "    \n",
    "    def qty_getter(instance):\n",
    "        return instance.__dict__[storage_name]\n",
    "    \n",
    "    def qty_setter(instance, value):    # instance指代要把属性存储其中的LineItem实例\n",
    "        if value > 0:\n",
    "            instance.__dict__[storage_name] = value\n",
    "        else:\n",
    "            raise ValueError('value must be > 0')\n",
    "            \n",
    "    return property(qty_getter, qty_setter)\n",
    "\n",
    "\n",
    "class LineItem:\n",
    "    weight = quantity('weight')\n",
    "    # 这里很难避免重复输入，因为特性根本不知道要绑定哪个类属性名来管理实例属性的存取。\n",
    "    price = quantity('price')\n",
    "    \n",
    "    def __init__(self, description, weight, price):\n",
    "        self.description = description\n",
    "        self.weight = weight    # 这一步会调用特性的设值方法，将传入的weight参数赋值给私有属性__weight\n",
    "        self.price = price\n",
    "        \n",
    "    def subtotal(self):\n",
    "        return self.weight * self.price"
   ]
  },
  {
   "cell_type": "code",
   "execution_count": 191,
   "metadata": {},
   "outputs": [],
   "source": [
    "walnuts = LineItem('walnuts', 5, 10.00)"
   ]
  },
  {
   "cell_type": "code",
   "execution_count": 192,
   "metadata": {},
   "outputs": [
    {
     "data": {
      "text/plain": [
       "{'description': 'walnuts', 'weight': 5, 'price': 10.0}"
      ]
     },
     "execution_count": 192,
     "metadata": {},
     "output_type": "execute_result"
    }
   ],
   "source": [
    "vars(walnuts)"
   ]
  },
  {
   "cell_type": "code",
   "execution_count": 193,
   "metadata": {},
   "outputs": [],
   "source": [
    "nutmeg = LineItem('Moluccan nutmeg', 8, 13.95)"
   ]
  },
  {
   "cell_type": "code",
   "execution_count": 194,
   "metadata": {},
   "outputs": [
    {
     "data": {
      "text/plain": [
       "(8, 13.95)"
      ]
     },
     "execution_count": 194,
     "metadata": {},
     "output_type": "execute_result"
    }
   ],
   "source": [
    "nutmeg.weight, nutmeg.price"
   ]
  },
  {
   "cell_type": "code",
   "execution_count": 195,
   "metadata": {},
   "outputs": [
    {
     "data": {
      "text/plain": [
       "[('description', 'Moluccan nutmeg'), ('price', 13.95), ('weight', 8)]"
      ]
     },
     "execution_count": 195,
     "metadata": {},
     "output_type": "execute_result"
    }
   ],
   "source": [
    "sorted(vars(nutmeg).items())"
   ]
  },
  {
   "cell_type": "code",
   "execution_count": 200,
   "metadata": {},
   "outputs": [],
   "source": [
    "class BlackKnight:\n",
    "    \n",
    "    def __init__(self):\n",
    "        self.members = ['an arm', 'another arm',\n",
    "                        'a leg', 'another leg']\n",
    "        self.phrases = [\"'Tis but a scratch.\",\n",
    "                        \"It's just a flesh wound.\",\n",
    "                        \"I'm invincible!\",\n",
    "                        \"All right, we'll call it a draw.\"]\n",
    "    @property\n",
    "    def member(self):\n",
    "        print('next member is:')\n",
    "        return self.members[0]\n",
    "    \n",
    "    @member.deleter\n",
    "    def member(self):\n",
    "        text = 'BLACK KNIGHT (loses {})\\n-- {}'\n",
    "        print(text.format(self.members.pop(0), self.phrases.pop(0)))"
   ]
  },
  {
   "cell_type": "code",
   "execution_count": 201,
   "metadata": {},
   "outputs": [
    {
     "name": "stdout",
     "output_type": "stream",
     "text": [
      "next member is:\n"
     ]
    },
    {
     "data": {
      "text/plain": [
       "'an arm'"
      ]
     },
     "execution_count": 201,
     "metadata": {},
     "output_type": "execute_result"
    }
   ],
   "source": [
    "knight = BlackKnight()\n",
    "knight.member"
   ]
  },
  {
   "cell_type": "code",
   "execution_count": 202,
   "metadata": {},
   "outputs": [
    {
     "name": "stdout",
     "output_type": "stream",
     "text": [
      "BLACK KNIGHT (loses an arm)\n",
      "-- 'Tis but a scratch.\n"
     ]
    }
   ],
   "source": [
    "del knight.member"
   ]
  },
  {
   "cell_type": "code",
   "execution_count": 203,
   "metadata": {},
   "outputs": [
    {
     "name": "stdout",
     "output_type": "stream",
     "text": [
      "BLACK KNIGHT (loses another arm)\n",
      "-- It's just a flesh wound.\n"
     ]
    }
   ],
   "source": [
    "del knight.member"
   ]
  },
  {
   "cell_type": "code",
   "execution_count": 204,
   "metadata": {},
   "outputs": [
    {
     "name": "stdout",
     "output_type": "stream",
     "text": [
      "BLACK KNIGHT (loses a leg)\n",
      "-- I'm invincible!\n"
     ]
    }
   ],
   "source": [
    "del knight.member"
   ]
  },
  {
   "cell_type": "code",
   "execution_count": 205,
   "metadata": {},
   "outputs": [
    {
     "name": "stdout",
     "output_type": "stream",
     "text": [
      "BLACK KNIGHT (loses another leg)\n",
      "-- All right, we'll call it a draw.\n"
     ]
    }
   ],
   "source": [
    "del knight.member"
   ]
  },
  {
   "cell_type": "code",
   "execution_count": 206,
   "metadata": {},
   "outputs": [],
   "source": [
    "class BlackKnight:\n",
    "    \n",
    "    def __init__(self):\n",
    "        self.members = ['an arm', 'another arm',\n",
    "                        'a leg', 'another leg']\n",
    "        self.phrases = [\"'Tis but a scratch.\",\n",
    "                        \"It's just a flesh wound.\",\n",
    "                        \"I'm invincible!\",\n",
    "                        \"All right, we'll call it a draw.\"]\n",
    "        \n",
    "    def member_getter(self):\n",
    "        print('next member is:')\n",
    "        return self.members[0]\n",
    "    \n",
    "    def member_deleter(self):\n",
    "        text = 'BLACK KNIGHT (loses {})\\n-- {}'\n",
    "        print(text.format(self.members.pop(0), self.phrases.pop(0)))\n",
    "        \n",
    "    member = property(member_getter, fdel=member_deleter)"
   ]
  },
  {
   "cell_type": "code",
   "execution_count": 208,
   "metadata": {},
   "outputs": [
    {
     "name": "stdout",
     "output_type": "stream",
     "text": [
      "next member is:\n"
     ]
    },
    {
     "data": {
      "text/plain": [
       "'an arm'"
      ]
     },
     "execution_count": 208,
     "metadata": {},
     "output_type": "execute_result"
    }
   ],
   "source": [
    "knight = BlackKnight()\n",
    "knight.member"
   ]
  },
  {
   "cell_type": "code",
   "execution_count": 209,
   "metadata": {},
   "outputs": [
    {
     "name": "stdout",
     "output_type": "stream",
     "text": [
      "BLACK KNIGHT (loses an arm)\n",
      "-- 'Tis but a scratch.\n"
     ]
    }
   ],
   "source": [
    "del knight.member"
   ]
  },
  {
   "cell_type": "code",
   "execution_count": 210,
   "metadata": {},
   "outputs": [
    {
     "name": "stdout",
     "output_type": "stream",
     "text": [
      "BLACK KNIGHT (loses another arm)\n",
      "-- It's just a flesh wound.\n"
     ]
    }
   ],
   "source": [
    "del knight.member"
   ]
  },
  {
   "cell_type": "code",
   "execution_count": 211,
   "metadata": {},
   "outputs": [
    {
     "name": "stdout",
     "output_type": "stream",
     "text": [
      "BLACK KNIGHT (loses a leg)\n",
      "-- I'm invincible!\n"
     ]
    }
   ],
   "source": [
    "del knight.member"
   ]
  },
  {
   "cell_type": "code",
   "execution_count": 212,
   "metadata": {},
   "outputs": [
    {
     "name": "stdout",
     "output_type": "stream",
     "text": [
      "BLACK KNIGHT (loses another leg)\n",
      "-- All right, we'll call it a draw.\n"
     ]
    }
   ],
   "source": [
    "del knight.member"
   ]
  }
 ],
 "metadata": {
  "kernelspec": {
   "display_name": "Python 3",
   "language": "python",
   "name": "python3"
  },
  "language_info": {
   "codemirror_mode": {
    "name": "ipython",
    "version": 3
   },
   "file_extension": ".py",
   "mimetype": "text/x-python",
   "name": "python",
   "nbconvert_exporter": "python",
   "pygments_lexer": "ipython3",
   "version": "3.8.5"
  }
 },
 "nbformat": 4,
 "nbformat_minor": 4
}
